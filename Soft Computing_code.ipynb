{
 "cells": [
  {
   "cell_type": "markdown",
   "id": "67c9cc14",
   "metadata": {},
   "source": [
    "# Soft_computing Coding Assignment"
   ]
  },
  {
   "cell_type": "code",
   "execution_count": 1,
   "id": "1fbd54e2",
   "metadata": {},
   "outputs": [],
   "source": [
    "import numpy as np\n",
    "import pandas as pd\n",
    "import matplotlib.pyplot as plt"
   ]
  },
  {
   "cell_type": "markdown",
   "id": "30be33c1",
   "metadata": {},
   "source": [
    "# Taking input from user for number of input neurons,output neurons,number of training and testing patterns."
   ]
  },
  {
   "cell_type": "code",
   "execution_count": 2,
   "id": "e0df7a55",
   "metadata": {},
   "outputs": [],
   "source": [
    "## Inputing the number of neurons in input and output layer\n",
    "def n_neurons():\n",
    "    n_x=int(input('No. Of Input neurons:'))\n",
    "    n_y=int(input('No. Of Output neurons:'))\n",
    "    return n_x,n_y"
   ]
  },
  {
   "cell_type": "code",
   "execution_count": 3,
   "id": "d9c464a8",
   "metadata": {},
   "outputs": [],
   "source": [
    "## Inputing number of patterns for training and testing\n",
    "def n_patterns():\n",
    "    n_train=int(input('No. Of Training patterns:'))\n",
    "    n_test=int(input('No. Of Testing patterns:'))\n",
    "    return n_train,n_test"
   ]
  },
  {
   "cell_type": "markdown",
   "id": "f42bccc2",
   "metadata": {},
   "source": [
    "## Creating Neural Network Model"
   ]
  },
  {
   "cell_type": "markdown",
   "id": "7d40250b",
   "metadata": {},
   "source": [
    "### Defining Activation Functions"
   ]
  },
  {
   "cell_type": "markdown",
   "id": "025aae5b",
   "metadata": {},
   "source": [
    "# Activation Functions which will be used:\n",
    "   1. For Hidden Layer: Log Sigmoid function\n",
    "   2. For Output Layer: linear transfer function\n",
    "   "
   ]
  },
  {
   "cell_type": "code",
   "execution_count": 4,
   "id": "1766a878",
   "metadata": {},
   "outputs": [],
   "source": [
    "def sigmoid(a,U):\n",
    "    return 1/(1+np.exp(-a*U))"
   ]
  },
  {
   "cell_type": "code",
   "execution_count": null,
   "id": "f72a4b00",
   "metadata": {},
   "outputs": [],
   "source": []
  },
  {
   "cell_type": "markdown",
   "id": "2de3d4c0",
   "metadata": {},
   "source": [
    "### Defining Weight and Bias Matrix"
   ]
  },
  {
   "cell_type": "markdown",
   "id": "971c4a1a",
   "metadata": {},
   "source": [
    "Defining Random Weight Matrices and the Biases:\n",
    "1. V - connection weights between input layer and hidden layer\n",
    "2. W - connection weights between hidden layer and output layer"
   ]
  },
  {
   "cell_type": "code",
   "execution_count": 5,
   "id": "6e9ccb89",
   "metadata": {},
   "outputs": [],
   "source": [
    "def weight_matrix(n_neurons):\n",
    "    n_inp=n_neurons[0]\n",
    "    n_hidden=n_neurons[1]\n",
    "    n_out=n_neurons[2]\n",
    "    V = np.random.randn(n_inp,n_hidden)\n",
    "    b1 = np.zeros((n_hidden,1))\n",
    "    W = np.random.randn(n_hidden,n_out)\n",
    "    b2 = np.zeros((n_out,1))\n",
    "    return V,b1,W,b2"
   ]
  },
  {
   "cell_type": "markdown",
   "id": "6fba6010",
   "metadata": {},
   "source": [
    "### Forward Propagation"
   ]
  },
  {
   "cell_type": "code",
   "execution_count": 6,
   "id": "0192f59f",
   "metadata": {},
   "outputs": [],
   "source": [
    "def forward_prop(a,inputs,params):\n",
    "    a1=a\n",
    "    a2=a\n",
    "    V=params['V']\n",
    "    b1=params['b1']\n",
    "    W=params['W']\n",
    "    b2=params['b2']       \n",
    "    \n",
    "    I1=np.dot(V.T,inputs)+b1.T\n",
    "    O1=sigmoid(a1,I1)[0]\n",
    "    \n",
    "    I2=np.dot(W.T,O1)+b2.T\n",
    "    O2=I2[0]\n",
    "    \n",
    "    return I1,O1,I2,O2"
   ]
  },
  {
   "cell_type": "markdown",
   "id": "f190f325",
   "metadata": {},
   "source": [
    "### Back Propagation"
   ]
  },
  {
   "cell_type": "code",
   "execution_count": 7,
   "id": "2316622a",
   "metadata": {},
   "outputs": [],
   "source": [
    "def back_prop(constant,inputs,forward,target,W,n_neurons):\n",
    "    inputs=inputs\n",
    "    a2=constant\n",
    "    a1=constant\n",
    "    I1=forward[0]\n",
    "    O1=forward[1]\n",
    "    I2=forward[2]\n",
    "    O2=forward[3]\n",
    "    T=target\n",
    "    W=W\n",
    "    n_i=n_neurons[0]\n",
    "    n_h=n_neurons[1]\n",
    "    n_o=n_neurons[2]\n",
    "    \n",
    "    x=[]\n",
    "    for k in range(n_o):\n",
    "        x.append(list((O2[k]-T[k])*O1))\n",
    "    del_W=np.array(x).T\n",
    "    \n",
    "    x=[]\n",
    "    for k in range(n_o):\n",
    "        x.append((O2[k]-T[k]))\n",
    "    del_b2=np.array(x).reshape(1,1)\n",
    "    \n",
    "    del_V=[]\n",
    "    for i in range(n_i):\n",
    "        y=[]\n",
    "        for j in range(n_h):\n",
    "            e_v=0\n",
    "            for k in range(n_o):\n",
    "                e_v+=(O2[k]-T[k])*W[j][k]*a1*O1[j]*(1-O1[j])*inputs[i]\n",
    "            y.extend([e_v/2])\n",
    "        del_V.append(y)\n",
    "    \n",
    "    x=[]\n",
    "    for j in range(n_h):\n",
    "        e_b1=0\n",
    "        for k in range(n_o):\n",
    "            e_b1+=(O2[k]-T[k])*a1*O1[j]*(1-O1[j])\n",
    "        x.append([e_b1/2])\n",
    "    del_b1=np.array(x)\n",
    "    \n",
    "    \n",
    "    return del_W,del_b2,np.array(del_V),del_b1\n"
   ]
  },
  {
   "cell_type": "markdown",
   "id": "1fbdf2fb",
   "metadata": {},
   "source": [
    "### Reading Dataset and Splitting into Train and Test"
   ]
  },
  {
   "cell_type": "markdown",
   "id": "c2f3bb70",
   "metadata": {},
   "source": [
    "# The Dataset consists 156 rows with each training pattern consisting of 6 inputs and 1 outputs is happiness score"
   ]
  },
  {
   "cell_type": "code",
   "execution_count": 8,
   "id": "2d361ccc",
   "metadata": {},
   "outputs": [
    {
     "data": {
      "text/html": [
       "<div>\n",
       "<style scoped>\n",
       "    .dataframe tbody tr th:only-of-type {\n",
       "        vertical-align: middle;\n",
       "    }\n",
       "\n",
       "    .dataframe tbody tr th {\n",
       "        vertical-align: top;\n",
       "    }\n",
       "\n",
       "    .dataframe thead th {\n",
       "        text-align: right;\n",
       "    }\n",
       "</style>\n",
       "<table border=\"1\" class=\"dataframe\">\n",
       "  <thead>\n",
       "    <tr style=\"text-align: right;\">\n",
       "      <th></th>\n",
       "      <th>Overall rank</th>\n",
       "      <th>Country or region</th>\n",
       "      <th>Score</th>\n",
       "      <th>GDP per capita</th>\n",
       "      <th>Social support</th>\n",
       "      <th>Healthy life expectancy</th>\n",
       "      <th>Freedom to make life choices</th>\n",
       "      <th>Generosity</th>\n",
       "      <th>Perceptions of corruption</th>\n",
       "    </tr>\n",
       "  </thead>\n",
       "  <tbody>\n",
       "    <tr>\n",
       "      <th>0</th>\n",
       "      <td>1</td>\n",
       "      <td>Finland</td>\n",
       "      <td>7.769</td>\n",
       "      <td>1.340</td>\n",
       "      <td>1.587</td>\n",
       "      <td>0.986</td>\n",
       "      <td>0.596</td>\n",
       "      <td>0.153</td>\n",
       "      <td>0.393</td>\n",
       "    </tr>\n",
       "    <tr>\n",
       "      <th>1</th>\n",
       "      <td>2</td>\n",
       "      <td>Denmark</td>\n",
       "      <td>7.600</td>\n",
       "      <td>1.383</td>\n",
       "      <td>1.573</td>\n",
       "      <td>0.996</td>\n",
       "      <td>0.592</td>\n",
       "      <td>0.252</td>\n",
       "      <td>0.410</td>\n",
       "    </tr>\n",
       "    <tr>\n",
       "      <th>2</th>\n",
       "      <td>3</td>\n",
       "      <td>Norway</td>\n",
       "      <td>7.554</td>\n",
       "      <td>1.488</td>\n",
       "      <td>1.582</td>\n",
       "      <td>1.028</td>\n",
       "      <td>0.603</td>\n",
       "      <td>0.271</td>\n",
       "      <td>0.341</td>\n",
       "    </tr>\n",
       "    <tr>\n",
       "      <th>3</th>\n",
       "      <td>4</td>\n",
       "      <td>Iceland</td>\n",
       "      <td>7.494</td>\n",
       "      <td>1.380</td>\n",
       "      <td>1.624</td>\n",
       "      <td>1.026</td>\n",
       "      <td>0.591</td>\n",
       "      <td>0.354</td>\n",
       "      <td>0.118</td>\n",
       "    </tr>\n",
       "    <tr>\n",
       "      <th>4</th>\n",
       "      <td>5</td>\n",
       "      <td>Netherlands</td>\n",
       "      <td>7.488</td>\n",
       "      <td>1.396</td>\n",
       "      <td>1.522</td>\n",
       "      <td>0.999</td>\n",
       "      <td>0.557</td>\n",
       "      <td>0.322</td>\n",
       "      <td>0.298</td>\n",
       "    </tr>\n",
       "  </tbody>\n",
       "</table>\n",
       "</div>"
      ],
      "text/plain": [
       "   Overall rank Country or region  Score  GDP per capita  Social support  \\\n",
       "0             1           Finland  7.769           1.340           1.587   \n",
       "1             2           Denmark  7.600           1.383           1.573   \n",
       "2             3            Norway  7.554           1.488           1.582   \n",
       "3             4           Iceland  7.494           1.380           1.624   \n",
       "4             5       Netherlands  7.488           1.396           1.522   \n",
       "\n",
       "   Healthy life expectancy  Freedom to make life choices  Generosity  \\\n",
       "0                    0.986                         0.596       0.153   \n",
       "1                    0.996                         0.592       0.252   \n",
       "2                    1.028                         0.603       0.271   \n",
       "3                    1.026                         0.591       0.354   \n",
       "4                    0.999                         0.557       0.322   \n",
       "\n",
       "   Perceptions of corruption  \n",
       "0                      0.393  \n",
       "1                      0.410  \n",
       "2                      0.341  \n",
       "3                      0.118  \n",
       "4                      0.298  "
      ]
     },
     "execution_count": 8,
     "metadata": {},
     "output_type": "execute_result"
    }
   ],
   "source": [
    "df=pd.read_csv('WHO_Happyness.csv')\n",
    "df.head()"
   ]
  },
  {
   "cell_type": "code",
   "execution_count": 9,
   "id": "39f8deb3",
   "metadata": {},
   "outputs": [
    {
     "data": {
      "text/plain": [
       "(156, 9)"
      ]
     },
     "execution_count": 9,
     "metadata": {},
     "output_type": "execute_result"
    }
   ],
   "source": [
    "df.shape\n",
    "### We have total of 156 rows"
   ]
  },
  {
   "cell_type": "code",
   "execution_count": 10,
   "id": "4c3b1a73",
   "metadata": {},
   "outputs": [
    {
     "name": "stdout",
     "output_type": "stream",
     "text": [
      "     Overall rank         Country or region  Score  GDP per capita  \\\n",
      "0               1                   Finland  7.769           1.340   \n",
      "1               2                   Denmark  7.600           1.383   \n",
      "2               3                    Norway  7.554           1.488   \n",
      "3               4                   Iceland  7.494           1.380   \n",
      "4               5               Netherlands  7.488           1.396   \n",
      "..            ...                       ...    ...             ...   \n",
      "151           152                    Rwanda  3.334           0.359   \n",
      "152           153                  Tanzania  3.231           0.476   \n",
      "153           154               Afghanistan  3.203           0.350   \n",
      "154           155  Central African Republic  3.083           0.026   \n",
      "155           156               South Sudan  2.853           0.306   \n",
      "\n",
      "     Social support  Healthy life expectancy  Freedom to make life choices  \\\n",
      "0             1.587                    0.986                         0.596   \n",
      "1             1.573                    0.996                         0.592   \n",
      "2             1.582                    1.028                         0.603   \n",
      "3             1.624                    1.026                         0.591   \n",
      "4             1.522                    0.999                         0.557   \n",
      "..              ...                      ...                           ...   \n",
      "151           0.711                    0.614                         0.555   \n",
      "152           0.885                    0.499                         0.417   \n",
      "153           0.517                    0.361                         0.000   \n",
      "154           0.000                    0.105                         0.225   \n",
      "155           0.575                    0.295                         0.010   \n",
      "\n",
      "     Generosity  Perceptions of corruption  \n",
      "0         0.153                      0.393  \n",
      "1         0.252                      0.410  \n",
      "2         0.271                      0.341  \n",
      "3         0.354                      0.118  \n",
      "4         0.322                      0.298  \n",
      "..          ...                        ...  \n",
      "151       0.217                      0.411  \n",
      "152       0.276                      0.147  \n",
      "153       0.158                      0.025  \n",
      "154       0.235                      0.035  \n",
      "155       0.202                      0.091  \n",
      "\n",
      "[156 rows x 9 columns]\n"
     ]
    },
    {
     "data": {
      "text/plain": [
       "(156, 9)"
      ]
     },
     "execution_count": 10,
     "metadata": {},
     "output_type": "execute_result"
    }
   ],
   "source": [
    "df.drop('Overall rank',axis=1)\n",
    "print(df)\n",
    "df.shape"
   ]
  },
  {
   "cell_type": "code",
   "execution_count": 11,
   "id": "bc4dcade",
   "metadata": {},
   "outputs": [],
   "source": [
    "df = df[['Score','GDP per capita','Social support','Healthy life expectancy','Freedom to make life choices','Generosity','Perceptions of corruption']]"
   ]
  },
  {
   "cell_type": "code",
   "execution_count": 12,
   "id": "237fce71",
   "metadata": {},
   "outputs": [],
   "source": [
    "from sklearn.utils import shuffle\n",
    "shuffled_df = shuffle(df)"
   ]
  },
  {
   "cell_type": "code",
   "execution_count": 13,
   "id": "b0b13cf2",
   "metadata": {},
   "outputs": [
    {
     "name": "stdout",
     "output_type": "stream",
     "text": [
      "No. Of Training patterns:120\n",
      "No. Of Testing patterns:36\n",
      "Training Data Shape: (120, 7) Test Data Shape:  (36, 7)\n"
     ]
    }
   ],
   "source": [
    "train_size,test_size=n_patterns()\n",
    "train=shuffled_df.head(train_size)\n",
    "test=shuffled_df.tail(test_size)\n",
    "print('Training Data Shape:',train.shape,'Test Data Shape: ',test.shape)"
   ]
  },
  {
   "cell_type": "code",
   "execution_count": 14,
   "id": "7f97a3b8",
   "metadata": {},
   "outputs": [
    {
     "name": "stdout",
     "output_type": "stream",
     "text": [
      "No. Of Input neurons:6\n",
      "No. Of Output neurons:1\n"
     ]
    }
   ],
   "source": [
    "\n",
    "n_inputs,n_outputs=n_neurons()"
   ]
  },
  {
   "cell_type": "markdown",
   "id": "14380566",
   "metadata": {},
   "source": [
    "\n",
    "\n"
   ]
  },
  {
   "cell_type": "markdown",
   "id": "292140c7",
   "metadata": {},
   "source": [
    "## Driver Code"
   ]
  },
  {
   "cell_type": "code",
   "execution_count": 29,
   "id": "15b4070a",
   "metadata": {},
   "outputs": [
    {
     "name": "stdout",
     "output_type": "stream",
     "text": [
      "0 epoch ===> rmse_error : 1.2911391864485335\n",
      "5 epoch ===> rmse_error : 0.8398648553207204\n",
      "10 epoch ===> rmse_error : 0.7213565601945658\n",
      "15 epoch ===> rmse_error : 0.6875056359690195\n",
      "20 epoch ===> rmse_error : 0.6678399419709953\n",
      "25 epoch ===> rmse_error : 0.6508177813979196\n",
      "30 epoch ===> rmse_error : 0.6359304295251431\n",
      "35 epoch ===> rmse_error : 0.623673733082042\n",
      "40 epoch ===> rmse_error : 0.6140710350573434\n",
      "45 epoch ===> rmse_error : 0.6066061357719087\n",
      "50 epoch ===> rmse_error : 0.6006237209256509\n",
      "55 epoch ===> rmse_error : 0.5956032889791789\n",
      "60 epoch ===> rmse_error : 0.5912135761017999\n",
      "65 epoch ===> rmse_error : 0.5872659502433196\n",
      "70 epoch ===> rmse_error : 0.5836563833047645\n",
      "75 epoch ===> rmse_error : 0.5803247414978855\n",
      "80 epoch ===> rmse_error : 0.5772316813742929\n",
      "85 epoch ===> rmse_error : 0.574347131107714\n",
      "90 epoch ===> rmse_error : 0.5716452449661382\n",
      "95 epoch ===> rmse_error : 0.5691026062894241\n",
      "100 epoch ===> rmse_error : 0.5666978605838557\n",
      "105 epoch ===> rmse_error : 0.5644118363196476\n",
      "110 epoch ===> rmse_error : 0.5622277224307726\n",
      "115 epoch ===> rmse_error : 0.5601311491847834\n",
      "120 epoch ===> rmse_error : 0.5581101501122326\n",
      "125 epoch ===> rmse_error : 0.556155028409399\n",
      "130 epoch ===> rmse_error : 0.5542581555978344\n",
      "135 epoch ===> rmse_error : 0.552413721998306\n",
      "140 epoch ===> rmse_error : 0.5506174528415502\n",
      "145 epoch ===> rmse_error : 0.5488663047915285\n",
      "150 epoch ===> rmse_error : 0.5471581626078365\n",
      "155 epoch ===> rmse_error : 0.5454915594573425\n",
      "160 epoch ===> rmse_error : 0.5438654430687663\n",
      "165 epoch ===> rmse_error : 0.542279002747909\n",
      "170 epoch ===> rmse_error : 0.5407315614406721\n",
      "175 epoch ===> rmse_error : 0.5392225260290506\n",
      "180 epoch ===> rmse_error : 0.5377513807707105\n",
      "185 epoch ===> rmse_error : 0.5363177045673772\n",
      "190 epoch ===> rmse_error : 0.5349211924084087\n",
      "195 epoch ===> rmse_error : 0.53356166393773\n",
      "200 epoch ===> rmse_error : 0.5322390465940495\n",
      "205 epoch ===> rmse_error : 0.5309533263712092\n",
      "210 epoch ===> rmse_error : 0.5297044653422099\n",
      "215 epoch ===> rmse_error : 0.5284922911153306\n",
      "220 epoch ===> rmse_error : 0.5273163686643887\n",
      "225 epoch ===> rmse_error : 0.5261758687548669\n",
      "230 epoch ===> rmse_error : 0.5250694488795064\n",
      "235 epoch ===> rmse_error : 0.5239951620386175\n",
      "240 epoch ===> rmse_error : 0.5229504062282313\n",
      "245 epoch ===> rmse_error : 0.521931923982916\n",
      "250 epoch ===> rmse_error : 0.5209358577579688\n",
      "255 epoch ===> rmse_error : 0.5199578640323039\n",
      "260 epoch ===> rmse_error : 0.5189932868032046\n",
      "265 epoch ===> rmse_error : 0.5180373888579757\n",
      "270 epoch ===> rmse_error : 0.5170856354975566\n",
      "275 epoch ===> rmse_error : 0.5161340189336667\n",
      "280 epoch ===> rmse_error : 0.5151794019454939\n",
      "285 epoch ===> rmse_error : 0.5142198477256489\n",
      "290 epoch ===> rmse_error : 0.513254891992238\n",
      "295 epoch ===> rmse_error : 0.5122857071120319\n",
      "300 epoch ===> rmse_error : 0.5113151098621732\n",
      "305 epoch ===> rmse_error : 0.5103473780683309\n",
      "310 epoch ===> rmse_error : 0.5093878698038802\n",
      "315 epoch ===> rmse_error : 0.5084424817541143\n",
      "320 epoch ===> rmse_error : 0.507517031029247\n",
      "325 epoch ===> rmse_error : 0.5066166765841943\n",
      "330 epoch ===> rmse_error : 0.5057454916249493\n",
      "335 epoch ===> rmse_error : 0.5049062531760488\n",
      "340 epoch ===> rmse_error : 0.5041004493887402\n",
      "345 epoch ===> rmse_error : 0.5033284500052899\n",
      "350 epoch ===> rmse_error : 0.5025897612666314\n",
      "355 epoch ===> rmse_error : 0.5018832937753088\n",
      "360 epoch ===> rmse_error : 0.5012075965259759\n",
      "365 epoch ===> rmse_error : 0.5005610369214638\n",
      "370 epoch ===> rmse_error : 0.49994192590026004\n",
      "375 epoch ===> rmse_error : 0.4993485973210723\n",
      "380 epoch ===> rmse_error : 0.4987794536545918\n",
      "385 epoch ===> rmse_error : 0.4982329889915602\n",
      "390 epoch ===> rmse_error : 0.4977077978648139\n",
      "395 epoch ===> rmse_error : 0.497202575799551\n",
      "400 epoch ===> rmse_error : 0.4967161154183017\n",
      "405 epoch ===> rmse_error : 0.4962473004369112\n",
      "410 epoch ===> rmse_error : 0.49579509890334683\n",
      "415 epoch ===> rmse_error : 0.4953585564147908\n",
      "420 epoch ===> rmse_error : 0.49493678967876564\n",
      "425 epoch ===> rmse_error : 0.494528980571393\n",
      "430 epoch ===> rmse_error : 0.4941343707297732\n",
      "435 epoch ===> rmse_error : 0.4937522566570184\n",
      "440 epoch ===> rmse_error : 0.49338198529326394\n",
      "445 epoch ===> rmse_error : 0.493022949999073\n",
      "450 epoch ===> rmse_error : 0.4926745868999505\n",
      "455 epoch ===> rmse_error : 0.4923363715469531\n",
      "460 epoch ===> rmse_error : 0.49200781585566905\n",
      "465 epoch ===> rmse_error : 0.4916884652926697\n",
      "470 epoch ===> rmse_error : 0.4913778962843004\n",
      "475 epoch ===> rmse_error : 0.49107571382720333\n",
      "480 epoch ===> rmse_error : 0.49078154928342194\n",
      "485 epoch ===> rmse_error : 0.4904950583454296\n",
      "490 epoch ===> rmse_error : 0.49021591915827706\n",
      "495 epoch ===> rmse_error : 0.4899438305873857\n"
     ]
    },
    {
     "data": {
      "image/png": "[encoded data removed]",
      "text/plain": [
       "<Figure size 432x288 with 1 Axes>"
      ]
     },
     "metadata": {
      "needs_background": "light"
     },
     "output_type": "display_data"
    },
    {
     "name": "stdout",
     "output_type": "stream",
     "text": [
      "learning rate = 0.1 & no. of hidden neurons = 5 RMSE : 0.48973104605846207\n"
     ]
    }
   ],
   "source": [
    "n_hidden=5\n",
    "n_epochs=500\n",
    "n_neurons=[n_inputs,n_hidden,n_outputs]\n",
    "params=weight_matrix(n_neurons)\n",
    "err=[]\n",
    "for epoch in range(n_epochs):\n",
    "    error=0\n",
    "    for index, row in train.iterrows():\n",
    "        X=np.array(row.values[1:])\n",
    "        Y=np.array(row.values[:1])\n",
    "        net_params={'V':params[0],'b1':params[1],'W':params[2],'b2':params[3]}\n",
    "        forward=forward_prop(3,X,net_params)\n",
    "        error+=sum(((forward[3]-Y))**2)\n",
    "        grads=back_prop(1,X,forward,Y,net_params['W'],n_neurons)\n",
    "        W=net_params['W']-0.1*grads[0]\n",
    "        b2=net_params['b2']-0.1*grads[1]\n",
    "        V=net_params['V']-0.1*(grads[2])\n",
    "        b1=net_params['b1']-0.1*grads[3]\n",
    "        params=[V,b1,W,b2]\n",
    "    rmse=(error/120)**0.5\n",
    "    err.append(rmse)\n",
    "    if(epoch%5==0):\n",
    "        print('{} epoch ===> rmse_error : {}'.format(epoch,rmse,n_hidden))\n",
    "plt.figure()\n",
    "plt.plot(np.arange(),err)\n",
    "plt.title('Error Function Graph')\n",
    "plt.show()\n",
    "print('learning rate = 0.1 & no. of hidden neurons = '+str(n_hidden) + ' RMSE : '+ str(err[-1]));"
   ]
  },
  {
   "cell_type": "markdown",
   "id": "8bf231b2",
   "metadata": {},
   "source": [
    "### Optimising the number of hidden layer neurons"
   ]
  },
  {
   "cell_type": "code",
   "execution_count": 16,
   "id": "e6de89c8",
   "metadata": {},
   "outputs": [
    {
     "data": {
      "image/png": "[encoded data removed]",
      "text/plain": [
       "<Figure size 432x288 with 1 Axes>"
      ]
     },
     "metadata": {
      "needs_background": "light"
     },
     "output_type": "display_data"
    },
    {
     "data": {
      "image/png": "[encoded data removed]",
      "text/plain": [
       "<Figure size 432x288 with 1 Axes>"
      ]
     },
     "metadata": {
      "needs_background": "light"
     },
     "output_type": "display_data"
    },
    {
     "data": {
      "image/png": "[encoded data removed]",
      "text/plain": [
       "<Figure size 432x288 with 1 Axes>"
      ]
     },
     "metadata": {
      "needs_background": "light"
     },
     "output_type": "display_data"
    },
    {
     "data": {
      "image/png": "[encoded data removed]",
      "text/plain": [
       "<Figure size 432x288 with 1 Axes>"
      ]
     },
     "metadata": {
      "needs_background": "light"
     },
     "output_type": "display_data"
    }
   ],
   "source": [
    "hidden=[10,15,20,25]\n",
    "n_epochs=500\n",
    "\n",
    "for n_hidden in hidden:\n",
    "    n_neurons=[n_inputs,n_hidden,n_outputs]\n",
    "    params=weight_matrix(n_neurons)\n",
    "    err=[]\n",
    "    for epoch in range(n_epochs):\n",
    "        error=0\n",
    "        for index, row in train.iterrows():\n",
    "            X=np.array(row.values[1:])\n",
    "            Y=np.array(row.values[:1])\n",
    "            net_params={'V':params[0],'b1':params[1],'W':params[2],'b2':params[3]}\n",
    "            forward=forward_prop(1,X,net_params)\n",
    "            #predicted=np.where(forward[3]>0.5,1,0)\n",
    "            error+=sum(((forward[3]-Y)/1)**2)\n",
    "            grads=back_prop(1,X,forward,Y,net_params['W'],n_neurons)\n",
    "            W=net_params['W']-0.1*grads[0]\n",
    "            b2=net_params['b2']-0.1*grads[1]\n",
    "            V=net_params['V']-0.1*grads[2]\n",
    "            b1=net_params['b1']-0.1*grads[3]\n",
    "            params=[V,b1,W,b2]\n",
    "        rmse=(error/120)**0.5\n",
    "        err.append(rmse)\n",
    "      \n",
    "    plt.figure()\n",
    "    plt.plot(np.arange(500),err)\n",
    "    plt.title('learning rate = 0.1 & no. of hidden neurons = '+str(n_hidden));\n",
    "    plt.show()"
   ]
  },
  {
   "cell_type": "markdown",
   "id": "85240fd3",
   "metadata": {},
   "source": [
    "From the above figures, the number of hidden neurons = 20 , provides the best minimum RMSE with learning rate=0.1 and number of iterations=500."
   ]
  },
  {
   "cell_type": "markdown",
   "id": "19bfd649",
   "metadata": {},
   "source": [
    "### Optimising the learning rate"
   ]
  },
  {
   "cell_type": "code",
   "execution_count": 18,
   "id": "fd7ddf80",
   "metadata": {},
   "outputs": [
    {
     "data": {
      "image/png": "[encoded data removed]",
      "text/plain": [
       "<Figure size 432x288 with 1 Axes>"
      ]
     },
     "metadata": {
      "needs_background": "light"
     },
     "output_type": "display_data"
    },
    {
     "data": {
      "image/png": "[encoded data removed]",
      "text/plain": [
       "<Figure size 432x288 with 1 Axes>"
      ]
     },
     "metadata": {
      "needs_background": "light"
     },
     "output_type": "display_data"
    },
    {
     "data": {
      "image/png": "[encoded data removed]",
      "text/plain": [
       "<Figure size 432x288 with 1 Axes>"
      ]
     },
     "metadata": {
      "needs_background": "light"
     },
     "output_type": "display_data"
    },
    {
     "data": {
      "image/png": "[encoded data removed]",
      "text/plain": [
       "<Figure size 432x288 with 1 Axes>"
      ]
     },
     "metadata": {
      "needs_background": "light"
     },
     "output_type": "display_data"
    }
   ],
   "source": [
    "etas=[0.01,0.02,0.05,0.1]\n",
    "n_epochs=500\n",
    "n_hidden=20\n",
    "\n",
    "for eta in etas:\n",
    "    n_neurons=[n_inputs,n_hidden,n_outputs]\n",
    "    params=weight_matrix(n_neurons)\n",
    "    err=[]\n",
    "    for epoch in range(n_epochs):\n",
    "        error=0\n",
    "        for index, row in train.iterrows():\n",
    "            X=np.array(row.values[1:])\n",
    "            Y=np.array(row.values[:1])\n",
    "            net_params={'V':params[0],'b1':params[1],'W':params[2],'b2':params[3]}\n",
    "            forward=forward_prop(1,X,net_params)\n",
    "            error+=sum(((forward[3]-Y)/1)**2)\n",
    "            grads=back_prop(1,X,forward,Y,net_params['W'],n_neurons)\n",
    "            W=net_params['W']-eta*grads[0]\n",
    "            b2=net_params['b2']-eta*grads[1]\n",
    "            V=net_params['V']-eta*grads[2]\n",
    "            b1=net_params['b1']-eta*grads[3]\n",
    "            params=[V,b1,W,b2]\n",
    "        rmse=(error/120)**0.5\n",
    "        err.append(rmse)\n",
    "        #print('{} epoch ===> rmse_error : {} , {}'.format(epoch,tot_error,n_hidden))\n",
    "    plt.figure()\n",
    "    plt.plot(np.arange(500),err)\n",
    "    plt.title('learning rate = '+str(eta)+' & no. of hidden neurons = 20');\n",
    "    plt.show()"
   ]
  },
  {
   "cell_type": "markdown",
   "id": "a6add674",
   "metadata": {},
   "source": [
    "## Defining Final Model"
   ]
  },
  {
   "cell_type": "code",
   "execution_count": 25,
   "id": "e183b047",
   "metadata": {},
   "outputs": [
    {
     "name": "stdout",
     "output_type": "stream",
     "text": [
      "epoch 0 =====> rmse_error : 1.2002988625017228\n",
      "epoch 20 =====> rmse_error : 0.6613719112173271\n",
      "epoch 40 =====> rmse_error : 0.6203574435566004\n",
      "epoch 60 =====> rmse_error : 0.5989399593123007\n",
      "epoch 80 =====> rmse_error : 0.5855800039315833\n",
      "epoch 100 =====> rmse_error : 0.5760439603552835\n",
      "epoch 120 =====> rmse_error : 0.5685884223028674\n",
      "epoch 140 =====> rmse_error : 0.5625122852645714\n",
      "epoch 160 =====> rmse_error : 0.557474449467312\n",
      "epoch 180 =====> rmse_error : 0.5532473448026101\n",
      "epoch 200 =====> rmse_error : 0.5496520172952014\n",
      "epoch 220 =====> rmse_error : 0.5465463654607828\n",
      "epoch 240 =====> rmse_error : 0.5438209658545162\n",
      "epoch 260 =====> rmse_error : 0.5413934568885348\n",
      "epoch 280 =====> rmse_error : 0.5392023492217533\n",
      "epoch 300 =====> rmse_error : 0.5372016581369881\n",
      "epoch 320 =====> rmse_error : 0.5353567797186864\n",
      "epoch 340 =====> rmse_error : 0.5336414773250346\n",
      "epoch 360 =====> rmse_error : 0.5320357043081492\n",
      "epoch 380 =====> rmse_error : 0.5305240198255251\n",
      "epoch 400 =====> rmse_error : 0.5290944214952626\n",
      "epoch 420 =====> rmse_error : 0.5277374755171615\n",
      "epoch 440 =====> rmse_error : 0.5264456640370894\n",
      "epoch 460 =====> rmse_error : 0.5252128945659117\n",
      "epoch 480 =====> rmse_error : 0.5240341320868089\n"
     ]
    },
    {
     "data": {
      "image/png": "[encoded data removed]",
      "text/plain": [
       "<Figure size 432x288 with 1 Axes>"
      ]
     },
     "metadata": {
      "needs_background": "light"
     },
     "output_type": "display_data"
    },
    {
     "name": "stdout",
     "output_type": "stream",
     "text": [
      "RMSE of the above model : 0.5229604520778751\n"
     ]
    }
   ],
   "source": [
    "# defining the hyperparameters\n",
    "n_hidden=20\n",
    "n_epochs=500\n",
    "eta=0.01\n",
    "\n",
    "#creating model\n",
    "n_neurons=[n_inputs,n_hidden,n_outputs]\n",
    "params=weight_matrix(n_neurons)\n",
    "err=[]\n",
    "for epoch in range(n_epochs):\n",
    "    error=0\n",
    "    for index, row in train.iterrows():\n",
    "        X=np.array(row.values[1:])\n",
    "        Y=np.array(row.values[:1])\n",
    "        net_params={'V':params[0],'b1':params[1],'W':params[2],'b2':params[3]}\n",
    "        forward=forward_prop(1,X,net_params)\n",
    "        error+=sum(((forward[3]-Y)/1)**2)\n",
    "        grads=back_prop(1,X,forward,Y,net_params['W'],n_neurons)\n",
    "        W=net_params['W']-eta*grads[0]\n",
    "        b2=net_params['b2']-eta*grads[1]\n",
    "        V=net_params['V']-eta*grads[2]\n",
    "        b1=net_params['b1']-eta*grads[3]\n",
    "        params=[V,b1,W,b2]\n",
    "    rmse=(error/120)**0.5\n",
    "    err.append(rmse)\n",
    "    if(epoch%20==0):\n",
    "        print('epoch {} =====> rmse_error : {}'.format(epoch,rmse))\n",
    "plt.figure()\n",
    "plt.plot(np.arange(500),err)\n",
    "plt.title('Error Graph with learning rate = 0.01 & Hidden neurons = 20')\n",
    "plt.show()\n",
    "print('RMSE of the above model : '+ str(err[-1]));"
   ]
  },
  {
   "cell_type": "code",
   "execution_count": 26,
   "id": "2a0e4726",
   "metadata": {
    "scrolled": true
   },
   "outputs": [
    {
     "name": "stdout",
     "output_type": "stream",
     "text": [
      "[array([[ 0.03481503,  0.40807977,  0.35732239,  0.80545808,  1.45525294,\n",
      "        -0.12625776,  1.32813337,  2.75395778, -2.48051117, -0.59068138,\n",
      "         0.76669717, -0.39650059,  0.0950297 ,  1.75458938,  0.25291223,\n",
      "         1.46798264, -0.43166618, -0.67387403,  0.49456281, -0.36948269],\n",
      "       [-0.10447295, -0.29348669, -1.23337157, -1.50890628, -0.67477486,\n",
      "         0.31514299, -0.67180298,  0.31053309,  0.32427771,  0.05577539,\n",
      "        -0.92145613,  1.45731297,  0.49259753, -0.89011334,  0.13577681,\n",
      "        -0.75904517, -0.53907863, -1.11464671,  0.42327372,  1.00602133],\n",
      "       [-0.31434561,  0.29752487,  0.09684149, -0.44656418,  0.92396653,\n",
      "        -0.31978173,  1.15116697, -2.68836549, -0.47463724,  1.48296206,\n",
      "         0.27931324, -0.37393738,  0.14784791, -1.35559965, -1.30697758,\n",
      "        -0.93779932,  1.14898164, -2.34726615, -0.79757831, -0.27622981],\n",
      "       [-1.57647823,  1.655691  ,  1.49872508,  1.78567396, -0.65983315,\n",
      "         1.16821541, -0.73601099,  0.58751276, -0.31494873,  1.17336675,\n",
      "        -1.31921445,  0.74612618,  0.27373724, -1.78707952, -0.71158378,\n",
      "        -0.48223177, -1.49860581,  0.64564897,  0.87484243,  2.17013158],\n",
      "       [-0.80946931, -0.12414431,  0.28387394, -1.366695  , -0.43839844,\n",
      "        -1.59509262,  1.05422538, -0.80643002, -0.78812306,  0.3741249 ,\n",
      "        -2.01602221,  0.76165181,  0.06836281,  0.46238589, -0.33899529,\n",
      "         0.21053248, -1.69327736, -1.65433802,  0.1759636 ,  0.33465582],\n",
      "       [ 0.10956394,  0.09422633, -1.58689208, -0.84550502,  0.24888772,\n",
      "        -0.71080288, -0.95697295, -0.35146453, -0.92757834, -0.29368115,\n",
      "        -0.69965995,  0.32446905, -0.95438034,  0.01413511,  0.84552696,\n",
      "        -1.79599281, -0.8305173 , -0.61540796,  0.57052737, -1.11096273]]), array([[-0.25761677],\n",
      "       [-0.33445476],\n",
      "       [-0.43283927],\n",
      "       [-0.38319511],\n",
      "       [-0.49485467],\n",
      "       [ 0.04987058],\n",
      "       [-0.45037983],\n",
      "       [-0.37101131],\n",
      "       [-0.24498723],\n",
      "       [-0.49646368],\n",
      "       [-0.12673197],\n",
      "       [-0.29013551],\n",
      "       [-0.11349737],\n",
      "       [-0.28337276],\n",
      "       [-0.25876037],\n",
      "       [-0.4424253 ],\n",
      "       [-0.20121152],\n",
      "       [ 0.23328118],\n",
      "       [-0.12369334],\n",
      "       [-0.17355928]]), array([[-0.88710012],\n",
      "       [ 1.12311716],\n",
      "       [-2.19535551],\n",
      "       [-1.03265837],\n",
      "       [ 3.31333897],\n",
      "       [ 0.0714897 ],\n",
      "       [ 1.46372248],\n",
      "       [ 1.3571492 ],\n",
      "       [ 1.51317511],\n",
      "       [ 0.74974435],\n",
      "       [-1.16114307],\n",
      "       [ 0.54340995],\n",
      "       [ 0.41368746],\n",
      "       [-0.34798417],\n",
      "       [-2.70982999],\n",
      "       [-2.59059365],\n",
      "       [-0.58618635],\n",
      "       [ 2.75743347],\n",
      "       [ 1.98480742],\n",
      "       [ 0.78968451]]), array([[0.32159111]])]\n"
     ]
    }
   ],
   "source": [
    "### The Final Model Parameters are stored in 'params'\n",
    "print(params)"
   ]
  },
  {
   "cell_type": "markdown",
   "id": "e8f933de",
   "metadata": {},
   "source": [
    "### Predicting The Results"
   ]
  },
  {
   "cell_type": "code",
   "execution_count": 46,
   "id": "f07b5991",
   "metadata": {},
   "outputs": [],
   "source": [
    "V=params[0]\n",
    "b1=params[1]\n",
    "W=params[2]\n",
    "b2=params[3]\n",
    "\n",
    "mse_error=np.zeros((1,))\n",
    "for index, row in test.iterrows():\n",
    "    X=np.array(row.values[1:])\n",
    "    Y=np.array(row.values[:1])\n",
    "    net_params={'V':V,'b1':b1,'W':W,'b2':b2}\n",
    "    forward=forward_prop(1,X,net_params)\n",
    "    mse_error+=((Y-forward[3])**2)\n",
    "RMSE_error= (mse_error/36)**0.5"
   ]
  },
  {
   "cell_type": "code",
   "execution_count": 47,
   "id": "ae8f4e41",
   "metadata": {},
   "outputs": [
    {
     "name": "stdout",
     "output_type": "stream",
     "text": [
      "[0.47531993]\n"
     ]
    }
   ],
   "source": [
    "print(RMSE_error)"
   ]
  },
  {
   "cell_type": "markdown",
   "id": "b861d36f",
   "metadata": {},
   "source": [
    "# in above ANN program have very less 0.4753 error "
   ]
  },
  {
   "cell_type": "code",
   "execution_count": null,
   "id": "1fbe20c4",
   "metadata": {},
   "outputs": [],
   "source": []
  }
 ],
 "metadata": {
  "kernelspec": {
   "display_name": "Python 3",
   "language": "python",
   "name": "python3"
  },
  "language_info": {
   "codemirror_mode": {
    "name": "ipython",
    "version": 3
   },
   "file_extension": ".py",
   "mimetype": "text/x-python",
   "name": "python",
   "nbconvert_exporter": "python",
   "pygments_lexer": "ipython3",
   "version": "3.8.8"
  }
 },
 "nbformat": 4,
 "nbformat_minor": 5
}
